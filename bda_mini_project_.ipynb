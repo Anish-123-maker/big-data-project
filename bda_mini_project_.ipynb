{
  "nbformat": 4,
  "nbformat_minor": 0,
  "metadata": {
    "colab": {
      "provenance": []
    },
    "kernelspec": {
      "name": "python3",
      "display_name": "Python 3"
    },
    "language_info": {
      "name": "python"
    }
  },
  "cells": [
    {
      "cell_type": "markdown",
      "source": [
        "dataset = [link text](https://www.kaggle.com/datasets/evanschreiner/netflix-movie-ratings)"
      ],
      "metadata": {
        "id": "-U4WEodKwegY"
      }
    },
    {
      "cell_type": "code",
      "execution_count": null,
      "metadata": {
        "colab": {
          "base_uri": "https://localhost:8080/"
        },
        "id": "Fph4p0aemKRv",
        "outputId": "87a9dc1e-6269-4370-858b-fc2d4dc16ffd"
      },
      "outputs": [
        {
          "output_type": "stream",
          "name": "stdout",
          "text": [
            "Requirement already satisfied: findspark in /usr/local/lib/python3.10/dist-packages (2.0.1)\n",
            "Requirement already satisfied: pyspark in /usr/local/lib/python3.10/dist-packages (3.4.1)\n",
            "Requirement already satisfied: py4j==0.10.9.7 in /usr/local/lib/python3.10/dist-packages (from pyspark) (0.10.9.7)\n"
          ]
        }
      ],
      "source": [
        "!pip install findspark\n",
        "!pip install pyspark\n",
        "import findspark\n",
        "import pyspark"
      ]
    },
    {
      "cell_type": "code",
      "source": [
        "from pyspark.sql import SparkSession\n",
        "spark = SparkSession.builder.appName('recommendation').getOrCreate()"
      ],
      "metadata": {
        "id": "be_V1m3ymlUa"
      },
      "execution_count": null,
      "outputs": []
    },
    {
      "cell_type": "code",
      "source": [
        "from pyspark.ml.evaluation import RegressionEvaluator\n",
        "from pyspark.ml.recommendation import ALS"
      ],
      "metadata": {
        "id": "8d7EA959mwWw"
      },
      "execution_count": null,
      "outputs": []
    },
    {
      "cell_type": "code",
      "source": [
        "data = spark.read.csv('/content/ratings.csv',inferSchema=True,header=True)"
      ],
      "metadata": {
        "id": "ro7NW9dxmxw5"
      },
      "execution_count": null,
      "outputs": []
    },
    {
      "cell_type": "code",
      "source": [
        "data.head()"
      ],
      "metadata": {
        "colab": {
          "base_uri": "https://localhost:8080/"
        },
        "id": "g0jzMD4eou2w",
        "outputId": "b1bf2a04-55aa-4ea3-edca-aeada5fa3e25"
      },
      "execution_count": null,
      "outputs": [
        {
          "output_type": "execute_result",
          "data": {
            "text/plain": [
              "Row(userId=1, movieId=1, rating=4.0, timestamp=964982703)"
            ]
          },
          "metadata": {},
          "execution_count": 26
        }
      ]
    },
    {
      "cell_type": "code",
      "source": [
        "data.printSchema()"
      ],
      "metadata": {
        "colab": {
          "base_uri": "https://localhost:8080/"
        },
        "id": "IkDWjnWHov8H",
        "outputId": "06e3a67b-9488-444f-eb3f-4c0cf268c9e1"
      },
      "execution_count": null,
      "outputs": [
        {
          "output_type": "stream",
          "name": "stdout",
          "text": [
            "root\n",
            " |-- userId: integer (nullable = true)\n",
            " |-- movieId: integer (nullable = true)\n",
            " |-- rating: double (nullable = true)\n",
            " |-- timestamp: integer (nullable = true)\n",
            "\n"
          ]
        }
      ]
    },
    {
      "cell_type": "code",
      "source": [
        "data.describe().show()"
      ],
      "metadata": {
        "colab": {
          "base_uri": "https://localhost:8080/"
        },
        "id": "IqDs2XkLozE2",
        "outputId": "a5b10699-3ea0-4731-cbc1-0a9783514a1a"
      },
      "execution_count": null,
      "outputs": [
        {
          "output_type": "stream",
          "name": "stdout",
          "text": [
            "+-------+------------------+----------------+------------------+--------------------+\n",
            "|summary|            userId|         movieId|            rating|           timestamp|\n",
            "+-------+------------------+----------------+------------------+--------------------+\n",
            "|  count|            100836|          100836|            100836|              100836|\n",
            "|   mean|326.12756356856676|19435.2957177992| 3.501556983616962|1.2059460873684695E9|\n",
            "| stddev| 182.6184914635004|35530.9871987003|1.0425292390606342|2.1626103599513078E8|\n",
            "|    min|                 1|               1|               0.5|           828124615|\n",
            "|    max|               610|          193609|               5.0|          1537799250|\n",
            "+-------+------------------+----------------+------------------+--------------------+\n",
            "\n"
          ]
        }
      ]
    },
    {
      "cell_type": "code",
      "source": [
        "# Smaller dataset so we will use 0.8 / 0.2\n",
        "(train_data, test_data) = data.randomSplit([0.8, 0.2], seed=42)"
      ],
      "metadata": {
        "id": "d62i4X5Po3RS"
      },
      "execution_count": null,
      "outputs": []
    },
    {
      "cell_type": "code",
      "source": [
        "# Build the recommendation model using ALS on the training data\n",
        "als = ALS(maxIter=5, regParam=0.01, userCol=\"userId\", itemCol=\"movieId\", ratingCol=\"rating\")\n",
        "model = als.fit(train_data)"
      ],
      "metadata": {
        "id": "KmQmJNuHo4QY"
      },
      "execution_count": null,
      "outputs": []
    },
    {
      "cell_type": "code",
      "source": [
        "# Evaluate the model by computing the RMSE on the test data\n",
        "predictions = model.transform(test_data)"
      ],
      "metadata": {
        "id": "oAgd6ntao6gH"
      },
      "execution_count": null,
      "outputs": []
    },
    {
      "cell_type": "code",
      "source": [
        "predictions.show()"
      ],
      "metadata": {
        "colab": {
          "base_uri": "https://localhost:8080/"
        },
        "id": "NHYbtyyCo9Hi",
        "outputId": "a960a0b9-c468-4e64-c334-8106143d4262"
      },
      "execution_count": null,
      "outputs": [
        {
          "output_type": "stream",
          "name": "stdout",
          "text": [
            "+------+-------+------+---------+----------+\n",
            "|userId|movieId|rating|timestamp|prediction|\n",
            "+------+-------+------+---------+----------+\n",
            "|     1|    101|   5.0|964980868| 4.4597964|\n",
            "|     1|   1031|   5.0|964982653| 3.3202777|\n",
            "|     1|    596|   5.0|964982838| 3.6768434|\n",
            "|     1|   1197|   5.0|964981872| 4.7004185|\n",
            "|     1|      6|   4.0|964982224|  4.790987|\n",
            "|     1|   1089|   5.0|964982951| 5.0987177|\n",
            "|     1|    923|   5.0|964981529|   4.39448|\n",
            "|     1|   1220|   5.0|964981909| 4.7497883|\n",
            "|     1|    231|   5.0|964981179| 2.9732854|\n",
            "|     1|   1967|   4.0|964981710| 4.4756904|\n",
            "|     1|    423|   3.0|964982363| 2.7019982|\n",
            "|     1|    543|   4.0|964981179| 3.3585258|\n",
            "|     1|    151|   5.0|964984041| 5.1790357|\n",
            "|     1|    943|   4.0|964983614|  4.863847|\n",
            "|     1|    940|   5.0|964982176|  4.002418|\n",
            "|     1|   1573|   5.0|964982290| 3.3755217|\n",
            "|     1|   1024|   5.0|964982876| 3.8420231|\n",
            "|     1|    349|   4.0|964982563| 4.1473207|\n",
            "|     1|   2000|   4.0|964982211| 4.6527977|\n",
            "|     1|   1805|   4.0|964983056| 4.1218786|\n",
            "+------+-------+------+---------+----------+\n",
            "only showing top 20 rows\n",
            "\n"
          ]
        }
      ]
    },
    {
      "cell_type": "code",
      "source": [
        "evaluator = RegressionEvaluator(metricName=\"rmse\", labelCol=\"rating\",predictionCol=\"prediction\")\n",
        "rmse = evaluator.evaluate(predictions)\n",
        "print(\"Root-mean-square error = \" + str(rmse))"
      ],
      "metadata": {
        "colab": {
          "base_uri": "https://localhost:8080/"
        },
        "id": "9ZHWuy1IpAs7",
        "outputId": "a739e11a-ef83-4490-c91d-64a531a59e92"
      },
      "execution_count": null,
      "outputs": [
        {
          "output_type": "stream",
          "name": "stdout",
          "text": [
            "Root-mean-square error = nan\n"
          ]
        }
      ]
    },
    {
      "cell_type": "code",
      "source": [
        "single_user = test_data.filter(test_data['userId']==1).select(['movieId','userId'])"
      ],
      "metadata": {
        "id": "UnXQpSzapD2h"
      },
      "execution_count": null,
      "outputs": []
    },
    {
      "cell_type": "code",
      "source": [
        "# User had 10 ratings in the test data set\n",
        "# Realistically this should be some sort of hold out set!\n",
        "single_user.show()"
      ],
      "metadata": {
        "colab": {
          "base_uri": "https://localhost:8080/"
        },
        "id": "SO2lEcJXpGcF",
        "outputId": "dd344c92-b616-4ada-80da-bedf8594e348"
      },
      "execution_count": null,
      "outputs": [
        {
          "output_type": "stream",
          "name": "stdout",
          "text": [
            "+-------+------+\n",
            "|movieId|userId|\n",
            "+-------+------+\n",
            "|      6|     1|\n",
            "|    101|     1|\n",
            "|    151|     1|\n",
            "|    231|     1|\n",
            "|    349|     1|\n",
            "|    423|     1|\n",
            "|    543|     1|\n",
            "|    596|     1|\n",
            "|    923|     1|\n",
            "|    940|     1|\n",
            "|    943|     1|\n",
            "|   1009|     1|\n",
            "|   1024|     1|\n",
            "|   1031|     1|\n",
            "|   1089|     1|\n",
            "|   1197|     1|\n",
            "|   1220|     1|\n",
            "|   1573|     1|\n",
            "|   1805|     1|\n",
            "|   1967|     1|\n",
            "+-------+------+\n",
            "only showing top 20 rows\n",
            "\n"
          ]
        }
      ]
    },
    {
      "cell_type": "code",
      "source": [
        "reccomendations = model.transform(single_user)"
      ],
      "metadata": {
        "id": "Lb1XYAIupI2y"
      },
      "execution_count": null,
      "outputs": []
    },
    {
      "cell_type": "code",
      "source": [
        "reccomendations.orderBy('prediction',ascending=False).show()"
      ],
      "metadata": {
        "colab": {
          "base_uri": "https://localhost:8080/"
        },
        "id": "lu_AY_7XpKxq",
        "outputId": "0a70c55e-2872-4b6f-a245-a4d6fb040ded"
      },
      "execution_count": null,
      "outputs": [
        {
          "output_type": "stream",
          "name": "stdout",
          "text": [
            "+-------+------+----------+\n",
            "|movieId|userId|prediction|\n",
            "+-------+------+----------+\n",
            "|   3703|     1| 5.2263975|\n",
            "|    151|     1| 5.1790357|\n",
            "|   1089|     1| 5.0987177|\n",
            "|    943|     1|  4.863847|\n",
            "|   3578|     1| 4.8356047|\n",
            "|      6|     1|  4.790987|\n",
            "|   1220|     1| 4.7497883|\n",
            "|   1197|     1| 4.7004185|\n",
            "|   2947|     1| 4.6916275|\n",
            "|   2000|     1| 4.6527977|\n",
            "|   2628|     1| 4.5672197|\n",
            "|   3168|     1|   4.49762|\n",
            "|   2596|     1|  4.482588|\n",
            "|   1967|     1| 4.4756904|\n",
            "|    101|     1| 4.4597964|\n",
            "|   2529|     1| 4.4579916|\n",
            "|   2093|     1| 4.4540844|\n",
            "|    923|     1|   4.39448|\n",
            "|   2478|     1|  4.387282|\n",
            "|   2005|     1|  4.334988|\n",
            "+-------+------+----------+\n",
            "only showing top 20 rows\n",
            "\n"
          ]
        }
      ]
    },
    {
      "cell_type": "code",
      "source": [
        "movie_data = spark.read.csv('/content/movies.csv',inferSchema=True,header=True)"
      ],
      "metadata": {
        "id": "Tp3zfXr2uhHH"
      },
      "execution_count": null,
      "outputs": []
    },
    {
      "cell_type": "code",
      "source": [
        "movie_data.head()"
      ],
      "metadata": {
        "colab": {
          "base_uri": "https://localhost:8080/"
        },
        "id": "cQHYNP8fusC8",
        "outputId": "d018d43d-3229-4460-8fb0-577603e72a32"
      },
      "execution_count": null,
      "outputs": [
        {
          "output_type": "execute_result",
          "data": {
            "text/plain": [
              "Row(movieId=1, title='Toy Story (1995)', genres='Adventure|Animation|Children|Comedy|Fantasy')"
            ]
          },
          "metadata": {},
          "execution_count": 40
        }
      ]
    },
    {
      "cell_type": "code",
      "source": [
        "movie_data.printSchema()"
      ],
      "metadata": {
        "colab": {
          "base_uri": "https://localhost:8080/"
        },
        "id": "T5MY3aQouxtK",
        "outputId": "f1904296-7ed4-421c-f7a4-df7150570ac6"
      },
      "execution_count": null,
      "outputs": [
        {
          "output_type": "stream",
          "name": "stdout",
          "text": [
            "root\n",
            " |-- movieId: integer (nullable = true)\n",
            " |-- title: string (nullable = true)\n",
            " |-- genres: string (nullable = true)\n",
            "\n"
          ]
        }
      ]
    },
    {
      "cell_type": "code",
      "source": [
        "movie_data.describe().show()"
      ],
      "metadata": {
        "colab": {
          "base_uri": "https://localhost:8080/"
        },
        "id": "Qm00fneYu3C4",
        "outputId": "0d09e4ca-ce60-4584-8d75-36da6eb4d9cc"
      },
      "execution_count": null,
      "outputs": [
        {
          "output_type": "stream",
          "name": "stdout",
          "text": [
            "+-------+------------------+--------------------+------------------+\n",
            "|summary|           movieId|               title|            genres|\n",
            "+-------+------------------+--------------------+------------------+\n",
            "|  count|              9742|                9742|              9742|\n",
            "|   mean|42200.353623485935|                null|              null|\n",
            "| stddev| 52160.49485443825|                null|              null|\n",
            "|    min|                 1|\"11'09\"\"01 - Sept...|(no genres listed)|\n",
            "|    max|            193609|À nous la liberté...|           Western|\n",
            "+-------+------------------+--------------------+------------------+\n",
            "\n"
          ]
        }
      ]
    },
    {
      "cell_type": "code",
      "source": [
        "# Get the movie recommendations\n",
        "reccomendations = model.transform(single_user)\n",
        "\n",
        "# Join the recommendations dataset with the movies dataset on the `movieId` column\n",
        "joined_df = reccomendations.join(movie_data, on='movieId', how='inner')\n",
        "\n",
        "# Select the movie name column from the joined dataset and print it to the console\n",
        "movie_names = joined_df.select('title').orderBy('prediction', ascending=False)\n",
        "movie_names.show()\n"
      ],
      "metadata": {
        "colab": {
          "base_uri": "https://localhost:8080/"
        },
        "id": "Fr6A_nNRvlJY",
        "outputId": "e7a38b9d-b35d-46c6-8d5b-ee68d4b3094d"
      },
      "execution_count": null,
      "outputs": [
        {
          "output_type": "stream",
          "name": "stdout",
          "text": [
            "+--------------------+\n",
            "|               title|\n",
            "+--------------------+\n",
            "|Fast Food, Fast W...|\n",
            "|Adventures Of She...|\n",
            "|Tremors 4: The Le...|\n",
            "|Man of the Year (...|\n",
            "|Helen of Troy (2003)|\n",
            "| High Society (1956)|\n",
            "|Howling II: Your ...|\n",
            "|Flesh and Bone (1...|\n",
            "|King of Comedy (H...|\n",
            "|Awfully Big Adven...|\n",
            "|     Sky High (2003)|\n",
            "|Othello (Tragedy ...|\n",
            "|Dead or Alive 2: ...|\n",
            "|   Chase, The (1994)|\n",
            "|Girl Walks Into a...|\n",
            "|The Dark Tower (2...|\n",
            "|Ice Cream Man (1995)|\n",
            "|Woman in Love (Ru...|\n",
            "|Nina's Heavenly D...|\n",
            "|     Lamerica (1994)|\n",
            "+--------------------+\n",
            "only showing top 20 rows\n",
            "\n"
          ]
        }
      ]
    },
    {
      "cell_type": "code",
      "source": [
        "from pyspark.sql.functions import lit\n",
        "\n",
        "# Filter for a user who hasn't rated all movies in the test dataset\n",
        "user_id = 1  # Change the user ID to the desired user\n",
        "movies_rated_by_user = test_data.filter(test_data['userId'] == user_id).select('movieId')\n",
        "all_movies = data.select('movieId').distinct()\n",
        "movies_to_recommend = all_movies.subtract(movies_rated_by_user)\n",
        "single_user = movies_to_recommend.withColumn('userId', lit(user_id))\n",
        "\n",
        "# Get recommendations for the selected user\n",
        "recommendations = model.transform(single_user)\n",
        "\n",
        "# Visualize the recommendations\n",
        "recommended_movies = recommendations.select(['movieId', 'prediction']).toPandas()\n",
        "recommended_movies = recommended_movies.sort_values(by='prediction', ascending=False)\n",
        "\n",
        "plt.figure(figsize=(12, 6))\n",
        "plt.bar(recommended_movies['movieId'], recommended_movies['prediction'], color='blue')\n",
        "plt.xlabel('Movie ID')\n",
        "plt.ylabel('Prediction Score')\n",
        "plt.title(f'Recommended Movies for User {user_id}')\n",
        "plt.xticks(rotation=90)\n",
        "plt.show()\n"
      ],
      "metadata": {
        "colab": {
          "base_uri": "https://localhost:8080/",
          "height": 603
        },
        "id": "Ee8R6Q174d03",
        "outputId": "e73fd29f-36be-4363-ce5d-070320116f52"
      },
      "execution_count": null,
      "outputs": [
        {
          "output_type": "display_data",
          "data": {
            "text/plain": [
              "<Figure size 1200x600 with 1 Axes>"
            ],
            "image/png": "[encoded data removed]"
          },
          "metadata": {}
        }
      ]
    },
    {
      "cell_type": "code",
      "source": [
        "tag_data = spark.read.csv('/content/tags.csv',inferSchema=True,header=True)"
      ],
      "metadata": {
        "id": "HAsmlUrfDmxN"
      },
      "execution_count": null,
      "outputs": []
    },
    {
      "cell_type": "code",
      "source": [
        "tag_data.show()"
      ],
      "metadata": {
        "colab": {
          "base_uri": "https://localhost:8080/"
        },
        "id": "c8Y4lQVBDxNV",
        "outputId": "c139a20f-519f-4dcf-b2e0-3c1f13912cad"
      },
      "execution_count": null,
      "outputs": [
        {
          "output_type": "stream",
          "name": "stdout",
          "text": [
            "+------+-------+-----------------+----------+\n",
            "|userId|movieId|              tag| timestamp|\n",
            "+------+-------+-----------------+----------+\n",
            "|     2|  60756|            funny|1445714994|\n",
            "|     2|  60756|  Highly quotable|1445714996|\n",
            "|     2|  60756|     will ferrell|1445714992|\n",
            "|     2|  89774|     Boxing story|1445715207|\n",
            "|     2|  89774|              MMA|1445715200|\n",
            "|     2|  89774|        Tom Hardy|1445715205|\n",
            "|     2| 106782|            drugs|1445715054|\n",
            "|     2| 106782|Leonardo DiCaprio|1445715051|\n",
            "|     2| 106782|  Martin Scorsese|1445715056|\n",
            "|     7|  48516|     way too long|1169687325|\n",
            "|    18|    431|        Al Pacino|1462138765|\n",
            "|    18|    431|         gangster|1462138749|\n",
            "|    18|    431|            mafia|1462138755|\n",
            "|    18|   1221|        Al Pacino|1461699306|\n",
            "|    18|   1221|            Mafia|1461699303|\n",
            "|    18|   5995|        holocaust|1455735472|\n",
            "|    18|   5995|       true story|1455735479|\n",
            "|    18|  44665|     twist ending|1456948283|\n",
            "|    18|  52604|  Anthony Hopkins|1457650696|\n",
            "|    18|  52604|  courtroom drama|1457650711|\n",
            "+------+-------+-----------------+----------+\n",
            "only showing top 20 rows\n",
            "\n"
          ]
        }
      ]
    }
  ]
}